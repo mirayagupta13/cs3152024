{
 "cells": [
  {
   "cell_type": "markdown",
   "id": "02b975f1-aace-4de5-af2f-405834c5d4d4",
   "metadata": {},
   "source": [
    "<h1> Word Embeddings </h1>"
   ]
  },
  {
   "cell_type": "markdown",
   "id": "8787a25d-053a-4347-8ea9-0e273cab11ce",
   "metadata": {},
   "source": [
    "Author: Miraya Gupta"
   ]
  },
  {
   "cell_type": "code",
   "execution_count": null,
   "id": "98bfc840-5a97-4fd0-a064-9acffa3ce7f9",
   "metadata": {},
   "outputs": [],
   "source": [
    "import pandas as pd"
   ]
  },
  {
   "cell_type": "code",
   "execution_count": 2,
   "id": "84880fc4-5293-49d4-ba11-a5f1984cf08d",
   "metadata": {},
   "outputs": [],
   "source": [
    "def get_all_words(sentences):\n",
    "    words = sentences.split()\n",
    "    all_words = []\n",
    "    for word in words:\n",
    "        lcword = word.lower()\n",
    "        if '.' in lcword or ',' in lcword or ':' in lcword or \"'\" in lcword: \n",
    "            lcword = lcword[:-1]\n",
    "        all_words.append(lcword)\n",
    "    return all_words"
   ]
  },
  {
   "cell_type": "code",
   "execution_count": 4,
   "id": "5cd04e60-2cbf-469b-82d2-5eda442f8a9d",
   "metadata": {},
   "outputs": [],
   "source": [
    "def get_counts(all_words):\n",
    "    dct = {}\n",
    "    for word in all_words:\n",
    "        if word in dct:\n",
    "            dct[word] += 1\n",
    "        else:\n",
    "            dct[word] = 1\n",
    "    return dct"
   ]
  },
  {
   "cell_type": "code",
   "execution_count": 7,
   "id": "d523a9cd-d2f0-4f08-a683-330ea538152a",
   "metadata": {},
   "outputs": [],
   "source": [
    "def get_clean_sentences(sentences):\n",
    "    sent_list = sentences.split('\\n')\n",
    "    words_in_sent = []\n",
    "    for sent in sent_list:\n",
    "        all_words = []\n",
    "        for word in words:\n",
    "            lcword = word.lower()\n",
    "            if '.' in lcword or ',' in lcword or ':' in lcword or \"'\" in lcword: \n",
    "                lcword = lcword[:-1]\n",
    "            all_words.append(lcword)\n",
    "        words_in_sent.append(all_words)\n",
    "    return words_in_sent     "
   ]
  },
  {
   "cell_type": "code",
   "execution_count": 8,
   "id": "fd767875-1af1-4ca6-ba6a-91b4c2a80a0c",
   "metadata": {},
   "outputs": [],
   "source": [
    "def get_table(sentences):\n",
    "    df = pd.DataFrame()\n",
    "    all_words = get_all_words(sentences)\n",
    "    words_dct = get_all_words(all_words)\n",
    "    column_names = words_dct.keys()\n",
    "    df.columns = column_names\n",
    "    \n",
    "    for sent in sentences_list:\n",
    "        data = get_counts(sent)     \n",
    "    df = pd.DataFrame(data)\n",
    "    \n",
    "    "
   ]
  },
  {
   "cell_type": "code",
   "execution_count": null,
   "id": "bf9a8fac-70f8-4edd-810c-fd4f56d598ad",
   "metadata": {},
   "outputs": [],
   "source": []
  }
 ],
 "metadata": {
  "kernelspec": {
   "display_name": "Python 3 (ipykernel)",
   "language": "python",
   "name": "python3"
  },
  "language_info": {
   "codemirror_mode": {
    "name": "ipython",
    "version": 3
   },
   "file_extension": ".py",
   "mimetype": "text/x-python",
   "name": "python",
   "nbconvert_exporter": "python",
   "pygments_lexer": "ipython3",
   "version": "3.9.18"
  }
 },
 "nbformat": 4,
 "nbformat_minor": 5
}
